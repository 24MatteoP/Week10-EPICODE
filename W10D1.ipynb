{
 "cells": [
  {
   "cell_type": "code",
   "execution_count": 2,
   "id": "8fa292fc-8dff-4cb6-8a21-398ef8f1e22b",
   "metadata": {},
   "outputs": [
    {
     "data": {
      "text/plain": [
       "11"
      ]
     },
     "execution_count": 2,
     "metadata": {},
     "output_type": "execute_result"
    }
   ],
   "source": [
    "#ESERCIZIO\n",
    "#ABBIAMO UNA LISTA DI LISTE\n",
    "#CHE TIPO DI STRUTTURA DATI O MATEMATICA POTREBBE RAPPRESENTARE? NOTARE CHE TUTTE LE LISTE INTERNE SONO DELLA STESSA DIMENSIONE\n",
    "#COME FACCIAMO PER ACCEDERE AD UN ELEMENTO IN PARTICOLARE\n",
    "\n",
    "mat = [[0,1,2,3,4],\n",
    "       [5,6,7,8,9],\n",
    "       [10,11,12,13,14]]\n",
    "\n",
    "       #1. Potrebbe rappresentare una matrice o tabella di dati, dato che ha una lunghezza fissa di colonne\n",
    "       #2. Per accedervi basta inserire \"mat\" + [indice della riga , 0,1,2] + [indice della colonna , 0,1,2,3,4,5]\n",
    "\n",
    "      #esempio. voglio mat = 11\n",
    "\n",
    "mat[2][1]"
   ]
  },
  {
   "cell_type": "code",
   "execution_count": 10,
   "id": "d8e3fe5f-e386-4360-b112-b2dc0272f3d6",
   "metadata": {},
   "outputs": [
    {
     "name": "stdout",
     "output_type": "stream",
     "text": [
      "seno di pi greco: 1.2246467991473532e-16\n",
      "coseno di 0: 1.0\n",
      "fattoriale di 4: 24\n"
     ]
    }
   ],
   "source": [
    "#IMPORTIAMO IL MODULO MATH E PROVIAMO A USARE LE FUNZIONI:\n",
    "#SIN() , COS() , FACTORIAL()\n",
    "#E LA VARIABILE: .PI\n",
    "\n",
    "import math\n",
    "\n",
    "print(\"seno di pi greco:\", math.sin(math.pi)) \n",
    "print(\"coseno di 0:\", math.cos(0)) \n",
    "print(\"fattoriale di 4:\", math.factorial(4))"
   ]
  },
  {
   "cell_type": "code",
   "execution_count": 17,
   "id": "61d94caa-42bc-43cb-90d0-28f678bbe7c7",
   "metadata": {},
   "outputs": [
    {
     "name": "stdout",
     "output_type": "stream",
     "text": [
      "Help on built-in function degrees in module math:\n",
      "\n",
      "degrees(x, /)\n",
      "    Convert angle x from radians to degrees.\n",
      "\n"
     ]
    }
   ],
   "source": [
    "#PROVIAMO A ESEGUIRE: MATH.DEGREES(MATH.PI)\n",
    "#QUAL E' E COSA SIGNIFICA IL RISULTATO?\n",
    "#PER SAPERNE DI PIU' POSSIAMO USARE HELP(MATH.DEGRESS)\n",
    "\n",
    "import math\n",
    "math.degrees(math.pi)\n",
    "help(math.degrees)\n",
    "\n",
    "\n",
    "#1. Il risultato è 180 e corrisponde alla conversione di un angolo da radianti a gradi, come da spiegazione di help(...)"
   ]
  },
  {
   "cell_type": "code",
   "execution_count": 41,
   "id": "866471f0-34fd-45a9-b600-bd241a816455",
   "metadata": {},
   "outputs": [
    {
     "name": "stdout",
     "output_type": "stream",
     "text": [
      "[2000 5500 7200 4320 1280 1900 2500 3900 6410 8150 7100 5350]\n",
      "La vendita max mensile è stata di: 8150\n",
      "La vendita min mensile è stata di: 1280\n",
      "Le vendite mensili maggiori di 4999 sono: [5500 7200 6410 8150 7100 5350]\n",
      "Sono: 6\n",
      "Le vendite mensili minori di 3000 sono: [2000 1280 1900 2500]\n",
      "La media delle vendite corrisponde a: 4634.166666666667\n"
     ]
    }
   ],
   "source": [
    "#L'AZIENDA HA CREATO UNA LISTA DI QUANTI OGGETTI HA VENDUTO OGNI MESE NELL'UTLIMO ANNO\n",
    "#TRASFORMIAMOLA IN UN ARRAY NUMPY(CASTING)\n",
    "#QUAL E' STATA LA VENDITA MASSIMA MENSILE? E QUELLA MINIMA?\n",
    "#QUALI SONO LE VENDITE MENSILI MAGGIORI DI 4999 OGGETTI? E QUANTE NE SONO?\n",
    "#QUALI SONO LE VENDITE MINORI DI 3000 OGGETTI?\n",
    "#IN MEDIA QUANTI OGGETTI SONO STATI VENDUTI AL MESE?\n",
    "\n",
    "import numpy as np\n",
    "\n",
    "lst = [2000, 5500, 7200, 4320, 1280, 1900, 2500, 3900, 6410, 8150, 7100, 5350] \n",
    "arr = np.array(lst)\n",
    "print(arr)\n",
    "\n",
    "#1. Vendita Max Mensile e Minima\n",
    "mas = arr.max()\n",
    "print (\"La vendita max mensile è stata di:\",mas)\n",
    "min = arr.min()\n",
    "print (\"La vendita min mensile è stata di:\", min)\n",
    "\n",
    "#2. Vendite > 4999\n",
    "mag = arr[arr>4999]\n",
    "print (\"Le vendite mensili maggiori di 4999 sono:\",mag)\n",
    "conto = mag.size\n",
    "print (\"Sono:\",conto)\n",
    "\n",
    "#3. Vendite < 3000\n",
    "meno = arr[arr<3000]\n",
    "print (\"Le vendite mensili minori di 3000 sono:\",meno)\n",
    "\n",
    "#4. Media vendite\n",
    "media = arr.mean()\n",
    "print (\"La media delle vendite corrisponde a:\", media)\n"
   ]
  },
  {
   "cell_type": "code",
   "execution_count": 48,
   "id": "1a0d2cb1-ae7a-4a45-8bc8-67828377d855",
   "metadata": {},
   "outputs": [
    {
     "data": {
      "text/plain": [
       "12000"
      ]
     },
     "execution_count": 48,
     "metadata": {},
     "output_type": "execute_result"
    }
   ],
   "source": [
    "#CONSIDERIAMO IL SEGUENTE DIZIONARIO (FATTURATI_DICT)\n",
    "#CONSIDERIAMO LA SEGUENTE SERIES (FATTURATI_SERIES)\n",
    "#POSSIAMO ACCEDERE ALLE STESSE INFORMAZIONI NELLO STESSO MODO: \n",
    "#FATTURATI_DICT[1997]\n",
    "#FATTURATI_SERIES[1997]\n",
    "#DUNQUE QUAL E' LA DIFFERENZA TRA I DUE TIPI DI DATO?\n",
    "#COSA POSSIAMO FARE CON LA SERIES CHE NON POSSIAMO FARE CON IL DIZIONARIO?\n",
    "\n",
    "import pandas as pd\n",
    "\n",
    "fatturati_dict = {1997: 12_000,\n",
    "                 1998: 15_000,\n",
    "                 1999: 20_000,\n",
    "                 2000: 23_000,\n",
    "                 2001: 25_000,\n",
    "                 2002: 17_000,\n",
    "                 2003: 14_000,\n",
    "                 2004: 21_000}\n",
    "\n",
    "fatturati_series = pd.Series([12_000, 15_000, 20_000, 23_000, 25_000, 17_000, 14_000, 21_000], index=range(1997,2005))\n",
    "\n",
    "fatturati_dict[1997]\n",
    "fatturati_series[1997]   \n",
    "\n",
    "#La differnza sta nelle funzionalità che offrono. La Series offre tante funzionalita extra rispetto alla Dict.\n",
    "#Es. Operazioni matematiche, Statistiche, conversione in DataFrame\n",
    "\n"
   ]
  },
  {
   "cell_type": "code",
   "execution_count": 56,
   "id": "80d674e1-1e49-4a91-b112-0dbb8506c92c",
   "metadata": {},
   "outputs": [
    {
     "name": "stdout",
     "output_type": "stream",
     "text": [
      "[ 200  400  600  800 1000 1200 1400 1600 1800 2000]\n"
     ]
    }
   ],
   "source": [
    "#L'AZIENDA HA UN DATASET CON TUTTI GLI STIPENDI DEI DIPENDENTI MEMORIZZATO IN UN NDARRAY:\n",
    "#L'AZIENDA CI CHIEDE DI RADDOPPIARE TUTTI GLI STIPENDI; FACCIAMOLO IN DUE MODI: CICLO FOR \n",
    "\n",
    "import numpy as np\n",
    "stipendi = np.array ([100, 200, 300, 400, 500, 600, 700, 800, 900, 1000])\n",
    "raddoppio = []\n",
    "\n",
    "for stipendio in stipendi:\n",
    "    raddoppio.append(stipendio * 2)\n",
    "\n",
    "raddoppio = np.array(raddoppio)\n",
    "print (raddoppio)\n"
   ]
  },
  {
   "cell_type": "code",
   "execution_count": 58,
   "id": "02a00728-bb27-48e3-96a7-485020d897e2",
   "metadata": {},
   "outputs": [
    {
     "name": "stdout",
     "output_type": "stream",
     "text": [
      "[ 200  400  600  800 1000 1200 1400 1600 1800 2000]\n"
     ]
    }
   ],
   "source": [
    "#L'AZIENDA HA UN DATASET CON TUTTI GLI STIPENDI DEI DIPENDENTI MEMORIZZATO IN UN NDARRAY:\n",
    "#L'AZIENDA CI CHIEDE DI RADDOPPIARE TUTTI GLI STIPENDI; FACCIAMOLO IN DUE MODI: MASKING\n",
    "\n",
    "import numpy as np\n",
    "stipendi = np.array ([100, 200, 300, 400, 500, 600, 700, 800, 900, 1000])\n",
    "\n",
    "maschera = stipendi > 0\n",
    "stipendi[maschera] = stipendi[maschera] * 2\n",
    "print (stipendi)"
   ]
  }
 ],
 "metadata": {
  "kernelspec": {
   "display_name": "Python 3 (ipykernel)",
   "language": "python",
   "name": "python3"
  },
  "language_info": {
   "codemirror_mode": {
    "name": "ipython",
    "version": 3
   },
   "file_extension": ".py",
   "mimetype": "text/x-python",
   "name": "python",
   "nbconvert_exporter": "python",
   "pygments_lexer": "ipython3",
   "version": "3.12.7"
  }
 },
 "nbformat": 4,
 "nbformat_minor": 5
}
